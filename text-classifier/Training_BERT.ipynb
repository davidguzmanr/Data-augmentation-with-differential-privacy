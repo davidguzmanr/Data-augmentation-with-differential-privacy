{
  "cells": [
    {
      "cell_type": "markdown",
      "metadata": {
        "id": "view-in-github",
        "colab_type": "text"
      },
      "source": [
        "<a href=\"https://colab.research.google.com/github/davidguzmanr/CSC2516/blob/main/text-classifier/Training_BERT.ipynb\" target=\"_parent\"><img src=\"https://colab.research.google.com/assets/colab-badge.svg\" alt=\"Open In Colab\"/></a>"
      ]
    },
    {
      "cell_type": "code",
      "source": [
        "from google.colab import drive\n",
        "from google.colab import runtime\n",
        "\n",
        "drive.mount('/content/gdrive')"
      ],
      "metadata": {
        "colab": {
          "base_uri": "https://localhost:8080/"
        },
        "id": "biOerIthu_l2",
        "outputId": "dd0f8517-e2cd-49e9-d4fd-0ac5b06c2f56"
      },
      "execution_count": 1,
      "outputs": [
        {
          "output_type": "stream",
          "name": "stdout",
          "text": [
            "Mounted at /content/gdrive\n"
          ]
        }
      ]
    },
    {
      "cell_type": "code",
      "execution_count": null,
      "metadata": {
        "id": "9Xh-CNcevjyx"
      },
      "outputs": [],
      "source": [
        "! git clone https://github.com/davidguzmanr/CSC2516.git"
      ]
    },
    {
      "cell_type": "code",
      "execution_count": 4,
      "metadata": {
        "colab": {
          "base_uri": "https://localhost:8080/"
        },
        "id": "jxyCBVsDDlV2",
        "outputId": "27a2ef24-1c00-4972-e331-13c986f5f919"
      },
      "outputs": [
        {
          "output_type": "stream",
          "name": "stdout",
          "text": [
            "/content/CSC2516\n"
          ]
        }
      ],
      "source": [
        "%cd CSC2516/ "
      ]
    },
    {
      "cell_type": "code",
      "execution_count": null,
      "metadata": {
        "id": "j0C3EFPjDqXo"
      },
      "outputs": [],
      "source": [
        "! pip install -r requirements.txt --quiet"
      ]
    },
    {
      "cell_type": "code",
      "execution_count": 7,
      "metadata": {
        "colab": {
          "base_uri": "https://localhost:8080/"
        },
        "id": "x4Kv-aEzDuUJ",
        "outputId": "fdb26362-07d1-45b6-f8c0-00ab87c14f0b"
      },
      "outputs": [
        {
          "output_type": "stream",
          "name": "stdout",
          "text": [
            "/content/CSC2516/text-classifier\n"
          ]
        }
      ],
      "source": [
        "%cd text-classifier/ "
      ]
    },
    {
      "cell_type": "code",
      "execution_count": 8,
      "metadata": {
        "id": "E86gbfUSaoSj"
      },
      "outputs": [],
      "source": [
        "# Load the TensorBoard notebook extension\n",
        "%load_ext tensorboard"
      ]
    },
    {
      "cell_type": "code",
      "execution_count": null,
      "metadata": {
        "id": "FZFn0HsuTB4z"
      },
      "outputs": [],
      "source": [
        "%tensorboard --logdir=lightning_logs"
      ]
    },
    {
      "cell_type": "markdown",
      "source": [
        "# BERT"
      ],
      "metadata": {
        "id": "RV2sd5054Cbd"
      }
    },
    {
      "cell_type": "code",
      "source": [
        "from datasets import load_dataset\n",
        "\n",
        "load_dataset('rotten_tomatoes')"
      ],
      "metadata": {
        "id": "KAfTf-EZaUcR"
      },
      "execution_count": null,
      "outputs": []
    },
    {
      "cell_type": "markdown",
      "source": [
        "## Model=bert-base-cased, optimizer=Adam, with weight decay, $\\varepsilon = [3, 5, 10]$\n",
        "\n",
        "See [How do you run multiple programs in parallel from a bash script?](https://stackoverflow.com/questions/3004811/how-do-you-run-multiple-programs-in-parallel-from-a-bash-script)"
      ],
      "metadata": {
        "id": "9Ilr9GU74E6G"
      }
    },
    {
      "cell_type": "code",
      "source": [
        "! python train.py --config=config.yaml --model.differential_privacy=False --model.data_augmentation=False \n",
        "! python train.py --config=config.yaml --model.differential_privacy=False --model.data_augmentation=True"
      ],
      "metadata": {
        "id": "Dm7x6z-d6w82"
      },
      "execution_count": null,
      "outputs": []
    },
    {
      "cell_type": "code",
      "source": [
        "# With DP, epsilon=3\n",
        "! python train.py --config=config.yaml --model.differential_privacy=True --model.epsilon=3.0 --model.data_augmentation=False \n",
        "! python train.py --config=config.yaml --model.differential_privacy=True --model.epsilon=3.0 --model.data_augmentation=True"
      ],
      "metadata": {
        "id": "gCIM338ldJwn"
      },
      "execution_count": null,
      "outputs": []
    },
    {
      "cell_type": "code",
      "source": [
        "# With DP, epsilon=5\n",
        "! python train.py --config=config.yaml --model.differential_privacy=True --model.epsilon=5.0 --model.data_augmentation=False \n",
        "! python train.py --config=config.yaml --model.differential_privacy=True --model.epsilon=5.0 --model.data_augmentation=True"
      ],
      "metadata": {
        "id": "RcfQjc3S4rHR"
      },
      "execution_count": null,
      "outputs": []
    },
    {
      "cell_type": "code",
      "source": [
        "# With DP, epsilon=10\n",
        "! python train.py --config=config.yaml --model.differential_privacy=True --model.epsilon=10.0 --model.data_augmentation=False \n",
        "! python train.py --config=config.yaml --model.differential_privacy=True --model.epsilon=10.0 --model.data_augmentation=True"
      ],
      "metadata": {
        "id": "aChOza69JBUN"
      },
      "execution_count": null,
      "outputs": []
    },
    {
      "cell_type": "code",
      "source": [
        "! zip -r bert-adam-with-regularization.zip lightning_logs/\n",
        "! cp \"/content/CSC2516/text-classifier/bert-adam-with-regularization.zip\" \"/content/gdrive/MyDrive/bert-adam-with-regularization.zip\"\n",
        "# ! rm -r lightning_logs/"
      ],
      "metadata": {
        "id": "tRndU254JJg8"
      },
      "execution_count": 16,
      "outputs": []
    },
    {
      "cell_type": "markdown",
      "source": [
        "## Model=bert-base-cased, optimizer=Adam, no weight decay, $\\varepsilon = [3, 5, 10]$\n",
        "\n",
        "See [How do you run multiple programs in parallel from a bash script?](https://stackoverflow.com/questions/3004811/how-do-you-run-multiple-programs-in-parallel-from-a-bash-script)"
      ],
      "metadata": {
        "id": "TfFiM8jbvvVX"
      }
    },
    {
      "cell_type": "code",
      "source": [
        "! python train.py --config=config.yaml --model.weight_decay=0.0 --model.differential_privacy=False --model.data_augmentation=False \n",
        "! python train.py --config=config.yaml --model.weight_decay=0.0 --model.differential_privacy=False --model.data_augmentation=True"
      ],
      "metadata": {
        "id": "7_V991MQgGj4"
      },
      "execution_count": null,
      "outputs": []
    },
    {
      "cell_type": "code",
      "source": [
        "# With DP, epsilon=3\n",
        "! python train.py --config=config.yaml --model.weight_decay=0.0 --model.differential_privacy=True --model.epsilon=3.0 --model.data_augmentation=False \n",
        "! python train.py --config=config.yaml --model.weight_decay=0.0 --model.differential_privacy=True --model.epsilon=3.0 --model.data_augmentation=True"
      ],
      "metadata": {
        "id": "LPMdxzTJwZpJ"
      },
      "execution_count": null,
      "outputs": []
    },
    {
      "cell_type": "code",
      "source": [
        "# With DP, epsilon=5\n",
        "! python train.py --config=config.yaml --model.weight_decay=0.0 --model.differential_privacy=True --model.epsilon=5.0 --model.data_augmentation=False \n",
        "! python train.py --config=config.yaml --model.weight_decay=0.0 --model.differential_privacy=True --model.epsilon=5.0 --model.data_augmentation=True"
      ],
      "metadata": {
        "id": "Q03JdCtjwbOE"
      },
      "execution_count": null,
      "outputs": []
    },
    {
      "cell_type": "code",
      "source": [
        "# With DP, epsilon=10\n",
        "! python train.py --config=config.yaml --model.weight_decay=0.0 --model.differential_privacy=True --model.epsilon=10.0 --model.data_augmentation=False \n",
        "! python train.py --config=config.yaml --model.weight_decay=0.0 --model.differential_privacy=True --model.epsilon=10.0 --model.data_augmentation=True"
      ],
      "metadata": {
        "id": "RyqTKoZKwejJ"
      },
      "execution_count": null,
      "outputs": []
    },
    {
      "cell_type": "code",
      "source": [
        "! zip -r bert-adam-no-regularization.zip lightning_logs/\n",
        "! cp \"/content/CSC2516/text-classifier/bert-adam-no-regularization.zip\" \"/content/gdrive/MyDrive/bert-adam-no-regularization.zip\"\n",
        "# ! rm -r lightning_logs/"
      ],
      "metadata": {
        "id": "UF3uN-ChwoPt"
      },
      "execution_count": null,
      "outputs": []
    },
    {
      "cell_type": "code",
      "source": [
        "# runtime.unassign()"
      ],
      "metadata": {
        "id": "lJTPZK9ezKBI"
      },
      "execution_count": null,
      "outputs": []
    }
  ],
  "metadata": {
    "colab": {
      "provenance": [],
      "include_colab_link": true
    },
    "gpuClass": "standard",
    "kernelspec": {
      "display_name": "Python 3",
      "name": "python3"
    },
    "language_info": {
      "name": "python"
    },
    "accelerator": "GPU"
  },
  "nbformat": 4,
  "nbformat_minor": 0
}